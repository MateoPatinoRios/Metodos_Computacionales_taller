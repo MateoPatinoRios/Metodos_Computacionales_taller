{
  "nbformat": 4,
  "nbformat_minor": 0,
  "metadata": {
    "colab": {
      "name": "Tarea00PatiñoMateo.ipynb",
      "provenance": [],
      "collapsed_sections": [],
      "authorship_tag": "ABX9TyOkSXo35WPVrk5g4Us9a/Oq",
      "include_colab_link": true
    },
    "kernelspec": {
      "name": "python3",
      "display_name": "Python 3"
    },
    "language_info": {
      "name": "python"
    }
  },
  "cells": [
    {
      "cell_type": "markdown",
      "metadata": {
        "id": "view-in-github",
        "colab_type": "text"
      },
      "source": [
        "<a href=\"https://colab.research.google.com/github/MateoPatinoRios/Metodos_Computacionales_taller/blob/main/Tarea00Pati%C3%B1oMateo.ipynb\" target=\"_parent\"><img src=\"https://colab.research.google.com/assets/colab-badge.svg\" alt=\"Open In Colab\"/></a>"
      ]
    },
    {
      "cell_type": "code",
      "execution_count": null,
      "metadata": {
        "colab": {
          "base_uri": "https://localhost:8080/"
        },
        "id": "j4mEi4_eNTrX",
        "outputId": "3c5e3af2-be91-4847-ce20-6fe6088a7a28"
      },
      "outputs": [
        {
          "output_type": "execute_result",
          "data": {
            "text/plain": [
              "120"
            ]
          },
          "metadata": {},
          "execution_count": 61
        }
      ],
      "source": [
        "#Calcular el factorial de un número\n",
        "def factorial(n):\n",
        "    fact=1\n",
        "    for i in range(1,n+1):\n",
        "        fact=fact*i\n",
        "    return fact\n",
        "factorial(5)"
      ]
    },
    {
      "cell_type": "code",
      "source": [
        "#Crear una función que me de la lista de los divisores propios de un número (Factores del número diferentes de él mismo)\n",
        "import numpy as np\n",
        "import math\n",
        "def divisores(n):\n",
        "  div=[1] #En esta lista se anexarán los divisores del número\n",
        "  divg=[] #En esta lista se guardarán los divisores más grandes.\n",
        "  for i in range(2,round(math.sqrt(n)+1),1): #Se hace el ciclo hasta la raíz cuadrada del número más uno para hacerlo más óptimo\n",
        "    if n%i==0: #Definición de múltiplo: según el algoritmo de la división de Euclides todo número se puede escribir como n=p*q+r, si r=0 entonces n es un múltiplo de q y p es un divisor exacto de n; n,p,q,r ϵ Z\n",
        "      div.append(i) \n",
        "      divg.append(n//i) #Los divisores más grandes se construyen tomando como ejemplo el 100, este se puede escribir como 100=50*2=25*4=10*10 entonces si 2 es un divisor, 50 también lo es. \n",
        "  if div[-1:]==divg[-1:]: #Cuando un número es el cuadrado de otro en las dos listas destinadas a albergar los divisores se repetirá la raíz del número como último elemento de las dos listas.\n",
        "    divg.pop() #Por ello eliminamos el último elemento de alguna de las listas llegado el caso\n",
        "  divg.reverse()\n",
        "  div.extend(divg)\n",
        "  div=np.array(div)\n",
        "  return div #Devuelve la lista de los divisores del número."
      ],
      "metadata": {
        "id": "IiZGi1ijNZVo"
      },
      "execution_count": null,
      "outputs": []
    },
    {
      "cell_type": "code",
      "source": [
        "#Función que me dice si un número es semiperfecto\n",
        "def semiperfecto(n):\n",
        "    sumas=[]\n",
        "    div=divisores(n)\n",
        "    for k in range(len(div)):\n",
        "        for i in range(k+1,len(div)+1):\n",
        "            for j in range(k+1,len(div)+1):\n",
        "                #Se necesita sumar cada divisor con todas las posibles combinaciones de divisores mayores que él, por eso se hace el slicing y se va sumando con todos los posibles tamaños de subconjuntos\n",
        "                sumas.append(div[k]+div[i:j].sum())   \n",
        "    sumas=list(set(sumas))\n",
        "    for i in sumas:\n",
        "        if i==n:\n",
        "            return True\n",
        "            break\n",
        "    return False\n",
        "semiperfecto(36)"
      ],
      "metadata": {
        "colab": {
          "base_uri": "https://localhost:8080/"
        },
        "id": "i5E8SQC0NcTf",
        "outputId": "e10b9301-bfa2-43aa-b76b-b3d0862c1d16"
      },
      "execution_count": null,
      "outputs": [
        {
          "output_type": "execute_result",
          "data": {
            "text/plain": [
              "True"
            ]
          },
          "metadata": {},
          "execution_count": 63
        }
      ]
    },
    {
      "cell_type": "code",
      "source": [
        "def clase_numero(a,b):\n",
        "    if divisores(a).sum()<a:\n",
        "        print(f\"a = {a} es un número defectivo.\")\n",
        "    elif divisores(a).sum()>a:\n",
        "        print(f\"a = {a} es un número abundante.\")\n",
        "    else: \n",
        "        print(f'a = {a} es un número perfecto.')\n",
        "    if divisores(b).sum()<b:\n",
        "        print(f\"b = {b} es un número defectivo.\")\n",
        "    elif divisores(b).sum()>b:\n",
        "        print(f\"b = {b} es un número abundante.\")\n",
        "    else:\n",
        "        print(f'b = {b} es un número perfecto.')\n",
        "    if a==divisores(b).sum() and b==divisores(a).sum():\n",
        "        print(f'a = {a} y b = {b} son números amigos.')\n",
        "    if divisores(a).sum()==1:\n",
        "        print(f'a = {a} es un número primo.')\n",
        "    if divisores(b).sum()==1:\n",
        "        print(f'b = {b} es un número primo.')\n",
        "    if semiperfecto(a)==True:\n",
        "        print(f'a = {a} es un número semiperfecto.')\n",
        "    if semiperfecto(b)==True:\n",
        "        print(f'b = {b} es un número semiperfecto.')"
      ],
      "metadata": {
        "id": "OjNlTD9PNfKS"
      },
      "execution_count": null,
      "outputs": []
    },
    {
      "cell_type": "code",
      "source": [
        "clase_numero(8128,12)#Todo número perfecto es a su vez semiperfecto\n",
        "clase_numero(220,284)\n",
        "clase_numero(1328470,1483850)"
      ],
      "metadata": {
        "colab": {
          "base_uri": "https://localhost:8080/"
        },
        "id": "XzmdDa83Nj9I",
        "outputId": "bf3222ee-03f8-4243-c455-c76117b355c7"
      },
      "execution_count": null,
      "outputs": [
        {
          "output_type": "stream",
          "name": "stdout",
          "text": [
            "a = 8128 es un número perfecto.\n",
            "b = 12 es un número abundante.\n",
            "a = 8128 es un número semiperfecto.\n",
            "b = 12 es un número semiperfecto.\n",
            "a = 220 es un número abundante.\n",
            "b = 284 es un número defectivo.\n",
            "a = 220 y b = 284 son números amigos.\n",
            "a = 220 es un número semiperfecto.\n",
            "a = 1328470 es un número abundante.\n",
            "b = 1483850 es un número defectivo.\n",
            "a = 1328470 y b = 1483850 son números amigos.\n"
          ]
        }
      ]
    },
    {
      "cell_type": "code",
      "source": [
        "#Función que me dice si un número es palíndromo\n",
        "def palindromo(n):\n",
        "    #El hecho de que los string se interpreten como una lista es muy útil ya que para este caso utilizando el slicing podemos obtener el revés del número.\n",
        "    n=str(n)\n",
        "    reves=n[::-1]\n",
        "    if int(n)==int(reves):\n",
        "        return True\n",
        "    else:\n",
        "        return False\n",
        "palindromo(32323)       "
      ],
      "metadata": {
        "colab": {
          "base_uri": "https://localhost:8080/"
        },
        "id": "D2rw-mejNm5w",
        "outputId": "8386941b-1f7c-4d45-cf09-b42d2b357273"
      },
      "execution_count": null,
      "outputs": [
        {
          "output_type": "execute_result",
          "data": {
            "text/plain": [
              "True"
            ]
          },
          "metadata": {},
          "execution_count": 66
        }
      ]
    },
    {
      "cell_type": "code",
      "source": [
        "#Dada una cadena de caracteres, entregar una lista donde se retorne:\n",
        "#en la primera casilla: True si el caracter del medio es una vocal, False en caso contrario\n",
        "#en la segunda: el numero de vocales en la cadena\n",
        "#en la tercera: el numero de consonantes\n",
        "#en la ultima: la cadena de caracteres invertida (ej: perro, orrep)\n",
        "def cadena(palabra):\n",
        "    cadena=[]\n",
        "    vocales=0\n",
        "    consonantes=0\n",
        "    palabra=str(palabra)\n",
        "    n=len(palabra)\n",
        "    if n%2==0:\n",
        "        #Los índices de la lista comienzan en 0, por ello la mitad de una lista par se halla en n/2 - 1\n",
        "        m=n//2-1\n",
        "    else:\n",
        "        m=n//2\n",
        "    if palabra[m]=='a' or palabra[m]=='e' or palabra[m]=='i' or palabra[m]=='o' or palabra[m]=='u':\n",
        "        cadena.append(True)\n",
        "    else:\n",
        "        cadena.append(False)\n",
        "    for i in range(n):\n",
        "        if palabra[i]=='a' or palabra[i]=='e' or palabra[i]=='i' or palabra[i]=='o' or palabra[i]=='u':\n",
        "            vocales+=1\n",
        "        else:\n",
        "            consonantes+=1\n",
        "    cadena.append(vocales)        \n",
        "    cadena.append(consonantes)\n",
        "    cadena.append(palabra[::-1])\n",
        "    return cadena\n",
        "print(cadena('electroencefalografista'))\n",
        "print(cadena('esternocleidomastoideo'))"
      ],
      "metadata": {
        "colab": {
          "base_uri": "https://localhost:8080/"
        },
        "id": "7d1craw9Nnz8",
        "outputId": "14688847-1574-4cb7-c3cf-07a6b8ced4d7"
      },
      "execution_count": null,
      "outputs": [
        {
          "output_type": "stream",
          "name": "stdout",
          "text": [
            "[False, 10, 13, 'atsifargolafecneortcele']\n",
            "[True, 11, 11, 'oediotsamodielconretse']\n"
          ]
        }
      ]
    },
    {
      "cell_type": "code",
      "source": [
        "#Decir el término n-ésimo de la sucesión de fibonacci\n",
        "def fibonacci(n):\n",
        "    fibo1=0\n",
        "    fibo2=1\n",
        "    fibon=[fibo1,fibo2]\n",
        "    for i in range(n+1):\n",
        "        fibo3=fibo1+fibo2\n",
        "        fibo1=fibo2\n",
        "        fibo2=fibo3\n",
        "        fibon.append(fibo3)\n",
        "    return fibon[-3]\n",
        "print(fibonacci(63))\n",
        "print(fibonacci(50))"
      ],
      "metadata": {
        "colab": {
          "base_uri": "https://localhost:8080/"
        },
        "id": "YOo45eEVNp0S",
        "outputId": "f535a82f-ede4-4bee-a8f1-f228bbec079b"
      },
      "execution_count": null,
      "outputs": [
        {
          "output_type": "stream",
          "name": "stdout",
          "text": [
            "6557470319842\n",
            "12586269025\n"
          ]
        }
      ]
    },
    {
      "cell_type": "code",
      "source": [
        "def particion(lista):\n",
        "    #Se escogerá como pivote el último número de la lista\n",
        "    v=lista.copy()\n",
        "    menores=[]\n",
        "    mayores=[]\n",
        "    pivote=v[-1]\n",
        "    #Necesitamos dividir la lista en dos listas, una de números mayores al pivote y otra de números menores a este\n",
        "    for i in range(len(v)-1):\n",
        "        if v[i]<pivote:\n",
        "            menores.append(v[i])\n",
        "        else:\n",
        "            mayores.append(v[i])\n",
        "    return menores, pivote, mayores"
      ],
      "metadata": {
        "id": "plQ_MHWtNvbm"
      },
      "execution_count": null,
      "outputs": []
    },
    {
      "cell_type": "code",
      "source": [
        "def quicksort(lista):\n",
        "    #Me va hacer la division de la lista hasta que el número esté solo\n",
        "    if len(lista)<2:\n",
        "        return lista\n",
        "    menores, pivote, mayores=particion(lista)\n",
        "    #La función debe ser recurs\n",
        "    return quicksort(menores)+[pivote]+quicksort(mayores)"
      ],
      "metadata": {
        "id": "-4ggXPUrNyGJ"
      },
      "execution_count": null,
      "outputs": []
    },
    {
      "cell_type": "code",
      "source": [
        "b=[22, 42, 22, 12, 22, 31, 41, 11, 12, 232, 24, 12, 22]\n",
        "v=[22,23,11,2,5,2,8,5,3,9,1,20,111,2,1]\n",
        "u=[10,9,8,7,6,5,4,3,2,1,11]"
      ],
      "metadata": {
        "id": "yNbWmkTyN8fN"
      },
      "execution_count": null,
      "outputs": []
    },
    {
      "cell_type": "code",
      "source": [
        "print(f\"lista desordenada: {b} y la lista ordenada: {quicksort(b)}\")\n",
        "print(f\"lista desordenada: {u} y la lista ordenada: {quicksort(u)}\")\n",
        "print(f\"lista desordenada: {v} y la lista ordenada: {quicksort(v)}\")"
      ],
      "metadata": {
        "colab": {
          "base_uri": "https://localhost:8080/"
        },
        "id": "IMHAX2CDOTX1",
        "outputId": "62481c49-a58b-4d3b-84e0-cac15056f2cc"
      },
      "execution_count": null,
      "outputs": [
        {
          "output_type": "stream",
          "name": "stdout",
          "text": [
            "lista desordenada: [22, 42, 22, 12, 22, 31, 41, 11, 12, 232, 24, 12, 22] y la lista ordenada: [11, 12, 12, 12, 22, 22, 22, 22, 24, 31, 41, 42, 232]\n",
            "lista desordenada: [10, 9, 8, 7, 6, 5, 4, 3, 2, 1, 11] y la lista ordenada: [1, 2, 3, 4, 5, 6, 7, 8, 9, 10, 11]\n",
            "lista desordenada: [22, 23, 11, 2, 5, 2, 8, 5, 3, 9, 1, 20, 111, 2, 1] y la lista ordenada: [1, 1, 2, 2, 2, 3, 5, 5, 8, 9, 11, 20, 22, 23, 111]\n"
          ]
        }
      ]
    }
  ]
}